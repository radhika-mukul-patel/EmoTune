{
 "cells": [
  {
   "cell_type": "markdown",
   "id": "c742bf65",
   "metadata": {},
   "source": [
    "# **NLP GROUP PROJECT - SENTIMENT ANALYSIS**"
   ]
  },
  {
   "cell_type": "markdown",
   "id": "7f7aed87",
   "metadata": {},
   "source": [
    "### **- Wilson Lee**    **- Radhika Patel** **- Arshad Irfan Faisal** **- Felipe Basurto** **- Maurizio Polizzi**"
   ]
  },
  {
   "cell_type": "markdown",
   "id": "9be6d3f9",
   "metadata": {},
   "source": [
    "Our goal is to get an overall sentiment score of the lyrics of each song. To select the most ideal sentiment model for our case, we created a small dataset to experiment with different pre-trained models such as Flair, Textblob, and amanda-cristina/finetuning-sentiment-model-4500-lyrics on Hugging Face, but the results of them didn’t fit with what we want. Here’s the reasons:\n",
    "\n",
    "* TextBlob model(https://textblob.readthedocs.io/en/dev/):\n",
    "TextBlob is quite simple to use and gives us an overall sentiment score, but after some researches to compare different models, we realized that the accuracy performance of TextBlob is not ideal. (http://bitly.ws/IXek)\n",
    "\n",
    "* Flair model(https://github.com/flairNLP/flair):\n",
    "The problem Flair is that it's only giving us 'POSITIVE', 'NEGATIVE', 'NEUTRAL' as the output instead of a sentiment score, so it didn't meet with our goal.\n",
    "\n",
    "* amanda-cristina/finetuning-sentiment-model-4500-lyrics(https://huggingface.co/amanda-cristina/finetuning-sentiment-model-4500-lyrics?text=I+like+you+I+love+you):\n",
    "The result of this model is a list containing sentiment score of each word in the input, instead of a numeric value of the whole song. That's why we decided not to use this model eventually.\n",
    "\n",
    "The final model we decided is VADER(Valence Aware Dictionary and sEntiment Reasoner). It gave the result that suits the best for the goal of our project, as it provides an overall score of a whole paragraph of text, and its accuracy is higher than TextBlob based on our research."
   ]
  },
  {
   "cell_type": "markdown",
   "id": "e2e3095f-3a09-45f2-8fec-f7ef2c4e42a2",
   "metadata": {},
   "source": [
    "--------------"
   ]
  },
  {
   "cell_type": "markdown",
   "id": "ed54697f",
   "metadata": {},
   "source": [
    "**Importing libraries**"
   ]
  },
  {
   "cell_type": "code",
   "execution_count": 1,
   "id": "d6113c6c",
   "metadata": {},
   "outputs": [
    {
     "name": "stderr",
     "output_type": "stream",
     "text": [
      "[nltk_data] Downloading package stopwords to\n",
      "[nltk_data]     C:\\Users\\fejab\\AppData\\Roaming\\nltk_data...\n",
      "[nltk_data]   Package stopwords is already up-to-date!\n",
      "[nltk_data] Downloading package punkt to\n",
      "[nltk_data]     C:\\Users\\fejab\\AppData\\Roaming\\nltk_data...\n",
      "[nltk_data]   Package punkt is already up-to-date!\n",
      "[nltk_data] Downloading package vader_lexicon to\n",
      "[nltk_data]     C:\\Users\\fejab\\AppData\\Roaming\\nltk_data...\n",
      "[nltk_data]   Package vader_lexicon is already up-to-date!\n"
     ]
    },
    {
     "data": {
      "text/plain": [
       "True"
      ]
     },
     "execution_count": 1,
     "metadata": {},
     "output_type": "execute_result"
    }
   ],
   "source": [
    "import re\n",
    "import pandas as pd\n",
    "from nltk.corpus import stopwords\n",
    "from nltk.tokenize import word_tokenize\n",
    "from nltk.sentiment.vader import SentimentIntensityAnalyzer\n",
    "import nltk\n",
    "import pickle\n",
    "\n",
    "nltk.download('stopwords')\n",
    "nltk.download('punkt')\n",
    "nltk.download('vader_lexicon')"
   ]
  },
  {
   "cell_type": "markdown",
   "id": "4a3300d5-1f6a-4e44-af03-49194d2775bd",
   "metadata": {},
   "source": [
    "To apply the lyrics sentiment analysis, first we need to import the dataset with the clean version of the lyrics, which was created in a previous notebook. It is a parquet file instead of a csv file because it is more efficient to read and write data."
   ]
  },
  {
   "cell_type": "code",
   "execution_count": 2,
   "id": "e90e216d",
   "metadata": {},
   "outputs": [],
   "source": [
    "df_with_lyrics = pd.read_parquet('data/df_with_lyrics.parquet')\n",
    "\n",
    "df = df_with_lyrics.copy()"
   ]
  },
  {
   "cell_type": "markdown",
   "id": "6b0e384d-8b86-48a4-b002-c06b91baffe9",
   "metadata": {},
   "source": [
    "And then, we're going to use a pre-trained sentiment analysis model called \"VADER\"(Valence Aware Dictionary and sEntiment Reasoner) go give each of the song a sentiment score based on its lyrics.\n",
    "\n",
    "We've experimented with different models such as Flair, Textblob, and amanda-cristina/finetuning-sentiment-model-4500-lyrics on Hugging Face, but we concluded that VADER gives the result that suits the best for the goal of our project, as it provides an overall score of a whole paragraph of text. \n",
    "\n",
    "More details about VADER: https://towardsdatascience.com/an-short-introduction-to-vader-3f3860208d53"
   ]
  },
  {
   "cell_type": "code",
   "execution_count": 3,
   "id": "75fc9dcc-ba95-4d85-aacd-36749bc6a395",
   "metadata": {},
   "outputs": [],
   "source": [
    "# Create an instance of the SentimentIntensityAnalyzer\n",
    "sid = SentimentIntensityAnalyzer()\n",
    "\n",
    "# Define a function to get the sentiment score for each lyric\n",
    "def get_sentiment_score(lyrics):\n",
    "    if isinstance(lyrics, str):\n",
    "        return sid.polarity_scores(lyrics)['compound']\n",
    "    else:\n",
    "        return 0\n",
    "\n",
    "# Apply the get_sentiment_score function to the 'Lyrics_clean' column\n",
    "df['Sentiment_Score'] = df['Lyrics'].apply(get_sentiment_score)"
   ]
  },
  {
   "cell_type": "code",
   "execution_count": 4,
   "id": "bfde3446-8e0e-4bd3-997f-65dca9b17afe",
   "metadata": {},
   "outputs": [
    {
     "data": {
      "text/html": [
       "<div>\n",
       "<style scoped>\n",
       "    .dataframe tbody tr th:only-of-type {\n",
       "        vertical-align: middle;\n",
       "    }\n",
       "\n",
       "    .dataframe tbody tr th {\n",
       "        vertical-align: top;\n",
       "    }\n",
       "\n",
       "    .dataframe thead th {\n",
       "        text-align: right;\n",
       "    }\n",
       "</style>\n",
       "<table border=\"1\" class=\"dataframe\">\n",
       "  <thead>\n",
       "    <tr style=\"text-align: right;\">\n",
       "      <th></th>\n",
       "      <th>Genre</th>\n",
       "      <th>Lyrics</th>\n",
       "      <th>Sentiment_Score</th>\n",
       "    </tr>\n",
       "  </thead>\n",
       "  <tbody>\n",
       "    <tr>\n",
       "      <th>0</th>\n",
       "      <td>Blues</td>\n",
       "      <td>true foundation I'm lifting bloodstained Banne...</td>\n",
       "      <td>0.9946</td>\n",
       "    </tr>\n",
       "    <tr>\n",
       "      <th>1</th>\n",
       "      <td>Blues</td>\n",
       "      <td>love way spread wings Yes got sweet little ang...</td>\n",
       "      <td>0.9774</td>\n",
       "    </tr>\n",
       "    <tr>\n",
       "      <th>2</th>\n",
       "      <td>Blues</td>\n",
       "      <td>Everyday, everyday blues Ooooh, everyday, ever...</td>\n",
       "      <td>0.9698</td>\n",
       "    </tr>\n",
       "    <tr>\n",
       "      <th>3</th>\n",
       "      <td>Blues</td>\n",
       "      <td>28 waist, 44 hips got real crazy legs upsets b...</td>\n",
       "      <td>0.2732</td>\n",
       "    </tr>\n",
       "    <tr>\n",
       "      <th>4</th>\n",
       "      <td>Blues</td>\n",
       "      <td>can't even close eyes Three o'clock morning ba...</td>\n",
       "      <td>0.6973</td>\n",
       "    </tr>\n",
       "  </tbody>\n",
       "</table>\n",
       "</div>"
      ],
      "text/plain": [
       "   Genre                                             Lyrics  Sentiment_Score\n",
       "0  Blues  true foundation I'm lifting bloodstained Banne...           0.9946\n",
       "1  Blues  love way spread wings Yes got sweet little ang...           0.9774\n",
       "2  Blues  Everyday, everyday blues Ooooh, everyday, ever...           0.9698\n",
       "3  Blues  28 waist, 44 hips got real crazy legs upsets b...           0.2732\n",
       "4  Blues  can't even close eyes Three o'clock morning ba...           0.6973"
      ]
     },
     "execution_count": 4,
     "metadata": {},
     "output_type": "execute_result"
    }
   ],
   "source": [
    "df.head()"
   ]
  },
  {
   "cell_type": "markdown",
   "id": "77e3457c",
   "metadata": {},
   "source": [
    "Exporting the sentiment scores to the main database."
   ]
  },
  {
   "cell_type": "code",
   "execution_count": 12,
   "id": "efe894dc",
   "metadata": {},
   "outputs": [],
   "source": [
    "lyrics = pd.read_csv('lyrics.csv')\n",
    "\n",
    "lyrics_and_sent= pd.concat([lyrics, df['Sentiment_Score']], axis=1)\n",
    "lyrics_and_sent.to_parquet('lyrics_and_sent.parquet')"
   ]
  },
  {
   "cell_type": "markdown",
   "id": "953dc5a1",
   "metadata": {},
   "source": [
    "-------------"
   ]
  },
  {
   "cell_type": "markdown",
   "id": "31f2c2ba-1a37-47f3-8904-a0e62eb6b364",
   "metadata": {},
   "source": [
    "After getting the sentiment score, scaling from -1 to 1, we're going to map the songs into 5 types based on the sentiment."
   ]
  },
  {
   "cell_type": "code",
   "execution_count": 5,
   "id": "a9480c39-aa5a-4dfd-aa5b-f2f0cdcbc528",
   "metadata": {},
   "outputs": [],
   "source": [
    "# Define a function to map sentiment scores to sentiment types (We found these thresholds by experimenting with different values)\n",
    "def map_sentiment_type(score):\n",
    "    if score <= -0.98:\n",
    "        return 'Very Negative'\n",
    "    elif score <= -0.6:\n",
    "        return 'Slightly Negative'\n",
    "    elif score <= 0.6:\n",
    "        return 'Neutral'\n",
    "    elif score <= 0.98:\n",
    "        return 'Slightly Positive'\n",
    "    else:\n",
    "        return 'Very Positive'\n",
    "\n",
    "# Apply the map_sentiment_type function to the 'Sentiment_Score' column\n",
    "df['type'] = df['Sentiment_Score'].apply(map_sentiment_type)"
   ]
  },
  {
   "cell_type": "code",
   "execution_count": 6,
   "id": "bf5dcafb-5d2e-4a27-968a-885b92039a47",
   "metadata": {},
   "outputs": [
    {
     "data": {
      "text/html": [
       "<div>\n",
       "<style scoped>\n",
       "    .dataframe tbody tr th:only-of-type {\n",
       "        vertical-align: middle;\n",
       "    }\n",
       "\n",
       "    .dataframe tbody tr th {\n",
       "        vertical-align: top;\n",
       "    }\n",
       "\n",
       "    .dataframe thead th {\n",
       "        text-align: right;\n",
       "    }\n",
       "</style>\n",
       "<table border=\"1\" class=\"dataframe\">\n",
       "  <thead>\n",
       "    <tr style=\"text-align: right;\">\n",
       "      <th></th>\n",
       "      <th>Genre</th>\n",
       "      <th>Lyrics</th>\n",
       "      <th>Sentiment_Score</th>\n",
       "      <th>type</th>\n",
       "    </tr>\n",
       "  </thead>\n",
       "  <tbody>\n",
       "    <tr>\n",
       "      <th>0</th>\n",
       "      <td>Blues</td>\n",
       "      <td>true foundation I'm lifting bloodstained Banne...</td>\n",
       "      <td>0.9946</td>\n",
       "      <td>Very Positive</td>\n",
       "    </tr>\n",
       "    <tr>\n",
       "      <th>1</th>\n",
       "      <td>Blues</td>\n",
       "      <td>love way spread wings Yes got sweet little ang...</td>\n",
       "      <td>0.9774</td>\n",
       "      <td>Slightly Positive</td>\n",
       "    </tr>\n",
       "    <tr>\n",
       "      <th>2</th>\n",
       "      <td>Blues</td>\n",
       "      <td>Everyday, everyday blues Ooooh, everyday, ever...</td>\n",
       "      <td>0.9698</td>\n",
       "      <td>Slightly Positive</td>\n",
       "    </tr>\n",
       "    <tr>\n",
       "      <th>3</th>\n",
       "      <td>Blues</td>\n",
       "      <td>28 waist, 44 hips got real crazy legs upsets b...</td>\n",
       "      <td>0.2732</td>\n",
       "      <td>Neutral</td>\n",
       "    </tr>\n",
       "    <tr>\n",
       "      <th>4</th>\n",
       "      <td>Blues</td>\n",
       "      <td>can't even close eyes Three o'clock morning ba...</td>\n",
       "      <td>0.6973</td>\n",
       "      <td>Slightly Positive</td>\n",
       "    </tr>\n",
       "  </tbody>\n",
       "</table>\n",
       "</div>"
      ],
      "text/plain": [
       "   Genre                                             Lyrics  Sentiment_Score  \\\n",
       "0  Blues  true foundation I'm lifting bloodstained Banne...           0.9946   \n",
       "1  Blues  love way spread wings Yes got sweet little ang...           0.9774   \n",
       "2  Blues  Everyday, everyday blues Ooooh, everyday, ever...           0.9698   \n",
       "3  Blues  28 waist, 44 hips got real crazy legs upsets b...           0.2732   \n",
       "4  Blues  can't even close eyes Three o'clock morning ba...           0.6973   \n",
       "\n",
       "                type  \n",
       "0      Very Positive  \n",
       "1  Slightly Positive  \n",
       "2  Slightly Positive  \n",
       "3            Neutral  \n",
       "4  Slightly Positive  "
      ]
     },
     "execution_count": 6,
     "metadata": {},
     "output_type": "execute_result"
    }
   ],
   "source": [
    "df.head()"
   ]
  },
  {
   "cell_type": "code",
   "execution_count": 7,
   "id": "85aab48d-af94-4029-8b20-3ad388a87276",
   "metadata": {},
   "outputs": [
    {
     "name": "stdout",
     "output_type": "stream",
     "text": [
      "Very Positive        333\n",
      "Slightly Positive    265\n",
      "Slightly Negative    148\n",
      "Very Negative        122\n",
      "Neutral               97\n",
      "Name: type, dtype: int64\n"
     ]
    }
   ],
   "source": [
    "# Count the occurrences of each sentiment type\n",
    "sentiment_counts = df['type'].value_counts()\n",
    "\n",
    "# Print the count of each sentiment type\n",
    "print(sentiment_counts)"
   ]
  },
  {
   "cell_type": "markdown",
   "id": "bcdff9c0",
   "metadata": {},
   "source": [
    "Okay, so now we have a working model which is able to score the sentiment on our lyrics, although we are not able to score it, since there is not sentiment information on it, we are going to save the model information for later usage."
   ]
  },
  {
   "cell_type": "code",
   "execution_count": 9,
   "id": "bc761c70",
   "metadata": {},
   "outputs": [],
   "source": [
    "import torch"
   ]
  },
  {
   "cell_type": "code",
   "execution_count": 10,
   "id": "b7d56554",
   "metadata": {},
   "outputs": [],
   "source": [
    "# Save the sid Vader model in a pickle file\n",
    "#with open('NLP_sentiment_model.pkl', 'wb') as f:\n",
    "#    pickle.dump(sid, f)\n",
    "    \n",
    "torch.save(sid, 'NLP_sentiment_model.pt')"
   ]
  },
  {
   "cell_type": "markdown",
   "id": "5ee23fef",
   "metadata": {},
   "source": [
    "-------"
   ]
  },
  {
   "cell_type": "markdown",
   "id": "8ab35308",
   "metadata": {},
   "source": [
    "## **Transformers** \n",
    "Because everything can be also done with transformers"
   ]
  },
  {
   "cell_type": "markdown",
   "id": "3073b778",
   "metadata": {},
   "source": [
    "In this case, we are planning to use a pre-trained model of DistilBERT, which is a much smaller version of BERT, but still as powerful as the original one. Since this model is trained on a huge corpus of text, it is able to understand the context of the words and sentences, and give a sentiment score based on that."
   ]
  },
  {
   "cell_type": "markdown",
   "id": "97761655",
   "metadata": {},
   "source": [
    "The Hugging Face Transformers library helps us a lot on the use of these kind of models."
   ]
  },
  {
   "cell_type": "code",
   "execution_count": 52,
   "id": "d8b0c25b",
   "metadata": {},
   "outputs": [],
   "source": [
    "from transformers import AutoTokenizer, pipeline\n",
    "\n",
    "# Initialize the DistilBERT tokenizer\n",
    "tokenizer = AutoTokenizer.from_pretrained('distilbert-base-uncased-finetuned-sst-2-english')\n",
    "classifier = pipeline('sentiment-analysis', model='distilbert-base-uncased-finetuned-sst-2-english')\n",
    "\n",
    "sentiment_scores = []\n",
    "sentiment_labels = []\n",
    "\n",
    "# Process the text and run the sentiment analysis pipeline\n",
    "for lyrics in df_with_lyrics['Lyrics']:\n",
    "    # Truncate the text to the maximum sequence length of DistilBERT\n",
    "    lyrics = tokenizer(lyrics, truncation=True, max_length=500)['input_ids']\n",
    "    lyrics = tokenizer.decode(lyrics)\n",
    "    \n",
    "    result = classifier(lyrics)[0]\n",
    "    sentiment_scores.append(result['score'])\n",
    "    sentiment_labels.append(result['label'])\n",
    "\n",
    "# Add the sentiment score and label to the data\n",
    "df_with_lyrics['Sentiment_Score'] = sentiment_scores\n",
    "df_with_lyrics['Sentiment_Label'] = sentiment_labels"
   ]
  },
  {
   "cell_type": "code",
   "execution_count": 54,
   "id": "8c82ca8c",
   "metadata": {},
   "outputs": [],
   "source": [
    "df_with_lyrics['type'] = df_with_lyrics['Sentiment_Score'].apply(map_sentiment_type)"
   ]
  },
  {
   "cell_type": "code",
   "execution_count": 55,
   "id": "53bee3ba",
   "metadata": {},
   "outputs": [
    {
     "data": {
      "text/html": [
       "<div>\n",
       "<style scoped>\n",
       "    .dataframe tbody tr th:only-of-type {\n",
       "        vertical-align: middle;\n",
       "    }\n",
       "\n",
       "    .dataframe tbody tr th {\n",
       "        vertical-align: top;\n",
       "    }\n",
       "\n",
       "    .dataframe thead th {\n",
       "        text-align: right;\n",
       "    }\n",
       "</style>\n",
       "<table border=\"1\" class=\"dataframe\">\n",
       "  <thead>\n",
       "    <tr style=\"text-align: right;\">\n",
       "      <th></th>\n",
       "      <th>Genre</th>\n",
       "      <th>Lyrics</th>\n",
       "      <th>Sentiment_Score</th>\n",
       "      <th>Sentiment_Label</th>\n",
       "      <th>type</th>\n",
       "    </tr>\n",
       "  </thead>\n",
       "  <tbody>\n",
       "    <tr>\n",
       "      <th>0</th>\n",
       "      <td>Blues</td>\n",
       "      <td>true foundation I'm lifting bloodstained Banne...</td>\n",
       "      <td>0.998819</td>\n",
       "      <td>POSITIVE</td>\n",
       "      <td>Very Positive</td>\n",
       "    </tr>\n",
       "    <tr>\n",
       "      <th>1</th>\n",
       "      <td>Blues</td>\n",
       "      <td>love way spread wings Yes got sweet little ang...</td>\n",
       "      <td>0.680024</td>\n",
       "      <td>POSITIVE</td>\n",
       "      <td>Slightly Positive</td>\n",
       "    </tr>\n",
       "    <tr>\n",
       "      <th>2</th>\n",
       "      <td>Blues</td>\n",
       "      <td>Everyday, everyday blues Ooooh, everyday, ever...</td>\n",
       "      <td>0.986249</td>\n",
       "      <td>NEGATIVE</td>\n",
       "      <td>Very Positive</td>\n",
       "    </tr>\n",
       "    <tr>\n",
       "      <th>3</th>\n",
       "      <td>Blues</td>\n",
       "      <td>28 waist, 44 hips got real crazy legs upsets b...</td>\n",
       "      <td>0.735240</td>\n",
       "      <td>NEGATIVE</td>\n",
       "      <td>Slightly Positive</td>\n",
       "    </tr>\n",
       "    <tr>\n",
       "      <th>4</th>\n",
       "      <td>Blues</td>\n",
       "      <td>can't even close eyes Three o'clock morning ba...</td>\n",
       "      <td>0.995777</td>\n",
       "      <td>NEGATIVE</td>\n",
       "      <td>Very Positive</td>\n",
       "    </tr>\n",
       "    <tr>\n",
       "      <th>...</th>\n",
       "      <td>...</td>\n",
       "      <td>...</td>\n",
       "      <td>...</td>\n",
       "      <td>...</td>\n",
       "      <td>...</td>\n",
       "    </tr>\n",
       "    <tr>\n",
       "      <th>995</th>\n",
       "      <td>Rock</td>\n",
       "      <td>used love her, kill used love her, hm yeah, ki...</td>\n",
       "      <td>0.986992</td>\n",
       "      <td>NEGATIVE</td>\n",
       "      <td>Very Positive</td>\n",
       "    </tr>\n",
       "    <tr>\n",
       "      <th>996</th>\n",
       "      <td>Rock</td>\n",
       "      <td>now, know say goodbye then, seems seen eyes Th...</td>\n",
       "      <td>0.915832</td>\n",
       "      <td>POSITIVE</td>\n",
       "      <td>Slightly Positive</td>\n",
       "    </tr>\n",
       "    <tr>\n",
       "      <th>997</th>\n",
       "      <td>Rock</td>\n",
       "      <td>could see tomorrow, plans? one live sorrow, as...</td>\n",
       "      <td>0.912260</td>\n",
       "      <td>POSITIVE</td>\n",
       "      <td>Slightly Positive</td>\n",
       "    </tr>\n",
       "    <tr>\n",
       "      <th>998</th>\n",
       "      <td>Rock</td>\n",
       "      <td>One, two, one, two, three, four *Whistling* Sh...</td>\n",
       "      <td>0.836154</td>\n",
       "      <td>NEGATIVE</td>\n",
       "      <td>Slightly Positive</td>\n",
       "    </tr>\n",
       "    <tr>\n",
       "      <th>999</th>\n",
       "      <td>Rock</td>\n",
       "      <td>Oh God Jump Welcome jungle, got fun games got ...</td>\n",
       "      <td>0.791556</td>\n",
       "      <td>POSITIVE</td>\n",
       "      <td>Slightly Positive</td>\n",
       "    </tr>\n",
       "  </tbody>\n",
       "</table>\n",
       "<p>965 rows × 5 columns</p>\n",
       "</div>"
      ],
      "text/plain": [
       "     Genre                                             Lyrics  \\\n",
       "0    Blues  true foundation I'm lifting bloodstained Banne...   \n",
       "1    Blues  love way spread wings Yes got sweet little ang...   \n",
       "2    Blues  Everyday, everyday blues Ooooh, everyday, ever...   \n",
       "3    Blues  28 waist, 44 hips got real crazy legs upsets b...   \n",
       "4    Blues  can't even close eyes Three o'clock morning ba...   \n",
       "..     ...                                                ...   \n",
       "995   Rock  used love her, kill used love her, hm yeah, ki...   \n",
       "996   Rock  now, know say goodbye then, seems seen eyes Th...   \n",
       "997   Rock  could see tomorrow, plans? one live sorrow, as...   \n",
       "998   Rock  One, two, one, two, three, four *Whistling* Sh...   \n",
       "999   Rock  Oh God Jump Welcome jungle, got fun games got ...   \n",
       "\n",
       "     Sentiment_Score Sentiment_Label               type  \n",
       "0           0.998819        POSITIVE      Very Positive  \n",
       "1           0.680024        POSITIVE  Slightly Positive  \n",
       "2           0.986249        NEGATIVE      Very Positive  \n",
       "3           0.735240        NEGATIVE  Slightly Positive  \n",
       "4           0.995777        NEGATIVE      Very Positive  \n",
       "..               ...             ...                ...  \n",
       "995         0.986992        NEGATIVE      Very Positive  \n",
       "996         0.915832        POSITIVE  Slightly Positive  \n",
       "997         0.912260        POSITIVE  Slightly Positive  \n",
       "998         0.836154        NEGATIVE  Slightly Positive  \n",
       "999         0.791556        POSITIVE  Slightly Positive  \n",
       "\n",
       "[965 rows x 5 columns]"
      ]
     },
     "execution_count": 55,
     "metadata": {},
     "output_type": "execute_result"
    }
   ],
   "source": [
    "df_with_lyrics"
   ]
  },
  {
   "cell_type": "markdown",
   "id": "100bc5ad",
   "metadata": {},
   "source": [
    "With an average runtime of 4 minutes, this model is still too big for us to be able to use it in our real time application, so we are going to use the VADER model for running inference."
   ]
  },
  {
   "cell_type": "markdown",
   "id": "03eea2bb",
   "metadata": {},
   "source": [
    "What we can do, is to assume that the scores with the Transformer model are more accurate, so we can consider it as a ground truth, and use it to score the VADER model."
   ]
  },
  {
   "cell_type": "code",
   "execution_count": 63,
   "id": "65902f78",
   "metadata": {},
   "outputs": [
    {
     "name": "stdout",
     "output_type": "stream",
     "text": [
      "Mean Squared Error (MSE): 1.1282304204940032\n",
      "Mean Absolute Error (MAE): 0.6741211997841554\n",
      "Root Mean Squared Error (RMSE): 1.062181914972197\n",
      "R-squared (R2) Score: -0.578678373915376\n",
      "Explained Variance Score (EVS): -0.059185035522111074\n"
     ]
    }
   ],
   "source": [
    "from sklearn.metrics import mean_squared_error, mean_absolute_error, r2_score, explained_variance_score\n",
    "\n",
    "# Extract the relevant columns for scoring\n",
    "df1_scores = df['Sentiment_Score']\n",
    "df2_scores = df_with_lyrics['Sentiment_Score']\n",
    "\n",
    "# Calculate the mean squared error (MSE)\n",
    "mse = mean_squared_error(df1_scores, df2_scores)\n",
    "\n",
    "# Calculate the mean absolute error (MAE)\n",
    "mae = mean_absolute_error(df1_scores, df2_scores)\n",
    "\n",
    "# Calculate the root mean squared error (RMSE)\n",
    "rmse = mean_squared_error(df1_scores, df2_scores, squared=False)\n",
    "\n",
    "# Calculate the R-squared (R2) score\n",
    "r2 = r2_score(df1_scores, df2_scores)\n",
    "\n",
    "# Calculate the explained variance score\n",
    "evs = explained_variance_score(df1_scores, df2_scores)\n",
    "\n",
    "# Print the regression metrics\n",
    "print(\"Mean Squared Error (MSE):\", mse)\n",
    "print(\"Mean Absolute Error (MAE):\", mae)\n",
    "print(\"Root Mean Squared Error (RMSE):\", rmse)\n",
    "print(\"R-squared (R2) Score:\", r2)\n",
    "print(\"Explained Variance Score (EVS):\", evs)"
   ]
  },
  {
   "cell_type": "markdown",
   "id": "97c143dd",
   "metadata": {},
   "source": [
    "Based on these metrics, it appears that the model's predictions are not accurate, as indicated by the relatively high MSE, MAE, and RMSE values. Additionally, the negative R2 score and EVS score suggest that the model's performance is worse than a baseline mean prediction. It may be necessary to improve the model or consider alternative approaches to achieve better accuracy in predicting sentiment scores."
   ]
  },
  {
   "cell_type": "markdown",
   "id": "4a30065a",
   "metadata": {},
   "source": [
    "But since sentiment is not an objective metric, we can't really say that the VADER model is not working well, plus this is just a test with no relevance to our real time application."
   ]
  }
 ],
 "metadata": {
  "kernelspec": {
   "display_name": "Python 3 (ipykernel)",
   "language": "python",
   "name": "python3"
  },
  "language_info": {
   "codemirror_mode": {
    "name": "ipython",
    "version": 3
   },
   "file_extension": ".py",
   "mimetype": "text/x-python",
   "name": "python",
   "nbconvert_exporter": "python",
   "pygments_lexer": "ipython3",
   "version": "3.10.8"
  }
 },
 "nbformat": 4,
 "nbformat_minor": 5
}
